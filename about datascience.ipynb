{
 "cells": [
  {
   "cell_type": "markdown",
   "id": "edd65a3a-d5bf-40f8-8d80-efc521234eaf",
   "metadata": {},
   "source": [
    "# Data Science Tools and Ecosystem"
   ]
  },
  {
   "cell_type": "markdown",
   "id": "87ebd690-9d18-4690-a1cf-af42f56c7831",
   "metadata": {},
   "source": [
    "In this notebook, Data Science Tools and Ecosystem are summarized."
   ]
  },
  {
   "cell_type": "markdown",
   "id": "686f0ab9-77df-4849-9241-afb2eb7f4e6b",
   "metadata": {},
   "source": [
    "__Objectives:__\n",
    "* List popular languages for Data Science\n",
    "* List commonly used libraries in Data Science\n",
    "* List development environment open source tools used in data science"
   ]
  },
  {
   "cell_type": "markdown",
   "id": "e441b568-36ec-454a-939a-3a676d396897",
   "metadata": {},
   "source": [
    "Some of the popular languages that Data Scientists use are:\n",
    " 1. python\n",
    " 2. R\n",
    " 3. SQL"
   ]
  },
  {
   "cell_type": "markdown",
   "id": "7fbcb5a5-f69e-4aed-a19e-01a7adc3e031",
   "metadata": {},
   "source": [
    "Some of the commonly used libraries used by Data Scientists include:\n",
    " * Pandas\n",
    " * Numpy\n",
    " * Matplotlib\n",
    " * Scikit-learn\n",
    " * TensorFlow\n",
    " * Pytorch"
   ]
  },
  {
   "cell_type": "markdown",
   "id": "74cb5e4c-ba3b-4678-80e6-53790280ac10",
   "metadata": {},
   "source": [
    "|Data Science Tools|\n",
    "|-------------------|\n",
    "|Jupyter Notebook|\n",
    "|R studio|"
   ]
  },
  {
   "cell_type": "markdown",
   "id": "4571268e-54f8-4798-9bef-3d6886b94b2a",
   "metadata": {},
   "source": [
    "### Below are a few examples of evaluating arithmetic expressions in Python"
   ]
  },
  {
   "cell_type": "markdown",
   "id": "8240289f-e314-4d2a-9ee7-a39f9bf09a23",
   "metadata": {},
   "source": [
    " This a simple arithmetic expression to mutiply then add integers"
   ]
  },
  {
   "cell_type": "code",
   "execution_count": 2,
   "id": "0eadd762-7f49-44c6-9482-ea36746c6eac",
   "metadata": {},
   "outputs": [
    {
     "data": {
      "text/plain": [
       "17"
      ]
     },
     "execution_count": 2,
     "metadata": {},
     "output_type": "execute_result"
    }
   ],
   "source": [
    "(3*4)+5"
   ]
  },
  {
   "cell_type": "markdown",
   "id": "31f94a6a-2d73-4abe-ace2-cef16d27761e",
   "metadata": {},
   "source": [
    "This will convert 200 minutes to hours by diving by 60"
   ]
  },
  {
   "cell_type": "code",
   "execution_count": 5,
   "id": "879ca73b-8dfa-4bd0-8701-e33240b4e2e5",
   "metadata": {},
   "outputs": [
    {
     "data": {
      "text/plain": [
       "3.3333333333333335"
      ]
     },
     "execution_count": 5,
     "metadata": {},
     "output_type": "execute_result"
    }
   ],
   "source": [
    "200 / 60"
   ]
  },
  {
   "cell_type": "markdown",
   "id": "49e14a62-069f-44fd-b5d9-56cf94080263",
   "metadata": {},
   "source": [
    "## Author"
   ]
  },
  {
   "cell_type": "markdown",
   "id": "fd86d605-94cd-4157-b6ad-f13cc2a715f7",
   "metadata": {},
   "source": [
    "Jiyoon Shin"
   ]
  }
 ],
 "metadata": {
  "kernelspec": {
   "display_name": "Python 3 (ipykernel)",
   "language": "python",
   "name": "python3"
  },
  "language_info": {
   "codemirror_mode": {
    "name": "ipython",
    "version": 3
   },
   "file_extension": ".py",
   "mimetype": "text/x-python",
   "name": "python",
   "nbconvert_exporter": "python",
   "pygments_lexer": "ipython3",
   "version": "3.9.13"
  }
 },
 "nbformat": 4,
 "nbformat_minor": 5
}
